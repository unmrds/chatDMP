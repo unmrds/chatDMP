{
 "cells": [
  {
   "cell_type": "markdown",
   "id": "706b6e1d",
   "metadata": {
    "slideshow": {
     "slide_type": "slide"
    }
   },
   "source": [
    "# ChatDMP\n",
    "------------------------------------\n",
    "\n",
    "_Data management planning opportunities and ethics in the advent of generative language models_\n",
    "\n",
    "Jon Wheeler (<jwheel01@unm.edu>)  \n",
    "Data Curation Librarian  \n",
    "College of University Libraries & Learning Sciences  \n",
    "\n",
    "\n",
    "Karl Benedict (<kbene@unm.edu>)  \n",
    "Director, Research Data Services & Library IT  \n",
    "College of University Libraries & Learning Sciences "
   ]
  },
  {
   "cell_type": "markdown",
   "id": "15a42ff0",
   "metadata": {
    "slideshow": {
     "slide_type": "subslide"
    }
   },
   "source": [
    "Description:\n",
    "\n",
    "_Data management plans (DMP) required by funders provide a case for the use of generative AI in research. The highly structured DMP formats recommended by funders lend themselves to the formulaic approach of generative AI but require considerations of researcher engagement with and ownership of the DMP that is submitted. In this presentation, faculty from the University Libraries' Research Data Services demonstrate the potential benefits and pitfalls of AI-generated DMPs for meeting sponsor DMP requirements._"
   ]
  },
  {
   "cell_type": "markdown",
   "id": "7e14adae",
   "metadata": {
    "slideshow": {
     "slide_type": "skip"
    }
   },
   "source": [
    "## Outline\n",
    "\n",
    "1. Introductions\n",
    "    1. We are not AI experts - we are data management experts\n",
    "1. Getting connected to ChatGPT\n",
    "    1. Log in or sign up, use Google, etc.: <https://chat.openai.com/>\n",
    "    1. Have some fun with prompts - ask about yourselves, etc. How accurate is the info?\n",
    "    1. Ask for information relevant to your research\n",
    "    1. Ask for a data management plan for your research\n",
    "        1. What seems useful? Not useful or wrong? How will you know?\n",
    "1. Parts of a DMP\n",
    "1. Developing a useful prompt\n",
    "1. Ethical considerations\n",
    "    1. Authorship or AI contribution to writing the DMP\n",
    "    1. Quality of the response\n",
    "    1. Capacity - did the AI suggest anything that UNM can't do (like provide 10TB of space for sharing HIPAA data?)"
   ]
  },
  {
   "cell_type": "markdown",
   "id": "a203491c",
   "metadata": {
    "slideshow": {
     "slide_type": "slide"
    }
   },
   "source": [
    "## First: Broader ethical concerns\n",
    "\n",
    "1. Information and details about your research are being provided to a third party (_consider_)\n",
    "1. Bias in responses (_review_)\n",
    "1. AI as authors (_disclose_)"
   ]
  },
  {
   "cell_type": "markdown",
   "id": "7d9e33cf",
   "metadata": {
    "slideshow": {
     "slide_type": "slide"
    }
   },
   "source": [
    "**It's the day before my proposal is due...?!**\n",
    "\n",
    "<img src=\"./images/dmp1.png\" alt=\"ChatDMP response to a generic request for a DMP\" title=\"Response 1\">"
   ]
  },
  {
   "cell_type": "markdown",
   "id": "b284752a",
   "metadata": {
    "slideshow": {
     "slide_type": "subslide"
    }
   },
   "source": [
    "## This response:\n",
    "\n",
    "1. Is not a data management plan.\n",
    "1. It includes an outline that:\n",
    "    1. Is relatively complete for the full lifecycle of a project.\n",
    "    1. References components that may not be necessary in a 2-page DMP."
   ]
  },
  {
   "cell_type": "markdown",
   "id": "8c2d68dc",
   "metadata": {
    "slideshow": {
     "slide_type": "slide"
    }
   },
   "source": [
    "<img src=\"./images/dmp2.png\" alt=\"ChatDMP response to a generic request for an NSF BIO DMP\" title=\"Response 2\">"
   ]
  },
  {
   "cell_type": "markdown",
   "id": "5676b25c",
   "metadata": {
    "slideshow": {
     "slide_type": "subslide"
    }
   },
   "source": [
    "**Data sharing and preservation, ChatDMP response from the same prompt as above**\n",
    "\n",
    "<img src=\"./images/dmp3.png\" alt=\"ChatDMP response to a generic request for an NSF BIO DMP\" title=\"Response 2, sharing and preservation\">"
   ]
  },
  {
   "cell_type": "markdown",
   "id": "d98a546a",
   "metadata": {
    "slideshow": {
     "slide_type": "subslide"
    }
   },
   "source": [
    "## This response:\n",
    "\n",
    "Is a slight improvement, but is really just the outline from before with some places to [_insert details here_]. Filling in these details would help, but the resulting plan would not be very strong.\n",
    "\n",
    "A data management plan signifies a commitment from the researcher and the university to dedicate resources, often beyond the end of the project, to data management and preservation. Regarding the response above:\n",
    "\n",
    "* Who will identify and grant necessary permissions for data sharing?\n",
    "* Who will _maintain_ data in appropriate formats for _future technology and software_?"
   ]
  },
  {
   "cell_type": "markdown",
   "id": "dfe66116",
   "metadata": {
    "slideshow": {
     "slide_type": "slide"
    }
   },
   "source": [
    "## An alternative (sooner than last minute) approach...\n",
    "\n",
    "From the online DMPTool's NSF-BIO template, with customizations for UNM. \n",
    "\n",
    "<img src=\"./images/dmp4.png\" alt=\"NSF-BIO DMP template from the online DMPTool\" title=\"Template for archiving, storage, and preservation\">"
   ]
  },
  {
   "cell_type": "markdown",
   "id": "322131a1",
   "metadata": {
    "slideshow": {
     "slide_type": "slide"
    }
   },
   "source": [
    "## Is there a middle ground?\n",
    "\n",
    "Can services like ChatGPT be used to outline a reasonable and effective DMP? One that:\n",
    "\n",
    "* Includes sufficient detail to be actionable and appropriate to the proposed research?\n",
    "* Names relevant standards and formats?\n",
    "* Does not overcommit the University to doing things like indefinitely preserving 10TB of clinical data in our public access repository?\n",
    "\n",
    "### ... potentially so\n",
    "\n",
    "We have started experimenting with more comprehensive prompts that **can** start to produce more specific DMPs than the generic ones that ChatGPT generates by default, but the results are still primarily echoing the text contained in the prompt:\n",
    "\n",
    "**Prompt:**\n",
    "\n",
    "> Write a 2-page NIH Data Sharing Plan for a research project led by PI-2 with data management led by DM-1; in the subject area of Environmental Analysis; for which 19MB of Survey data will be generated for use during the project, resulting in 15MB of CSV files that will be shared and preserved in the ICPSR repository and documented using the DDI standard(s); shared under the terms of the CC0 Creative Commons license; and preserved using UNM's LibNova Labdrive system for long-term preservation in addition to any additional preservation provided by the target repository\n",
    "\n",
    "**Generated DMP:**\n",
    "\n",
    "> Data Management Plan\n",
    "> \n",
    "> Data Collection: \n",
    "> \n",
    "> The survey data collection process will follow ethical guidelines set forth by NIH. **All participants involved in the study must provide informed consent before participating**. Data collected from participants during surveys or interviews should not contain any personally identifiable information (PII). PII includes names, addresses, social security numbers, email addresses or other unique identifiers.\n",
    "> \n",
    "> Data Storage:\n",
    "> \n",
    "> **All raw survey responses and derived datasets generated during this project shall be stored on secure servers maintained at UNM's LibNova Labdrive system for long-term preservation** as well as any additional preservation provided by target repositories such as ICPSR. Access to these servers shall only be granted to authorized personnel with appropriate credentials.\n",
    "> \n",
    "> Metadata Documentation:\n",
    "> \n",
    "> DM-1 shall document metadata using DDI standard(s) which provides a comprehensive framework for describing various aspects of research projects including variables used in analysis, questionnaires used during surveys etc., This documentation ensures transparency about how researchers conducted their studies so that others can replicate findings if needed.\n",
    "> \n",
    "> Data Sharing:\n",
    "> \n",
    "> All CSV files containing non-sensitive deidentified survey response datasets generated during this project shall be shared under CC0 Creative Commons license via ICPSR repository **within six months after publication date** unless there are legal restrictions preventing it from being made publically available earlier than six months post-publication date.\n",
    "> \n",
    "> Intellectual Property Rights:\n",
    "> \n",
    "> **Ownership rights over intellectual property created through this research belong solely to PI-2; however, DM-1 may have some rights related to data management and documentation. Any third-party use of the research data must be acknowledged appropriately.**\n",
    "> \n",
    "> Data Preservation:\n",
    "> \n",
    "> DM-1 shall ensure that all necessary steps are taken to preserve the research data for long-term access and reuse. **This includes regular backups, version control, and migration to new formats as needed. The ICPSR repository will provide additional preservation services such as secure storage, backup, and dissemination of datasets in various formats**.\n",
    "> \n",
    "> Conclusion\n",
    ">\n",
    "> This NIH Data Sharing Plan outlines procedures for managing and sharing research data generated by a project led by PI-2 in the subject area of Environmental Analysis. DM-1 will lead the effort to document metadata using DDI standard(s), share non-sensitive deidentified survey response datasets under CC0 Creative Commons license via ICPSR repository within six months after publication date unless there are legal restrictions preventing it from being made publically available earlier than six months post-publication date; preserve research data for long-term access and reuse through regular backups, version control, migration to new formats as needed; ensure appropriate acknowledgement of intellectual property rights related to this project's findings or products thereof when used by third parties.\n",
    "\n",
    "Potentially problematic areas are highlighted in the generated DMP for discussion. \n"
   ]
  },
  {
   "cell_type": "markdown",
   "id": "e0766964",
   "metadata": {
    "slideshow": {
     "slide_type": "slide"
    }
   },
   "source": [
    "## Having a DMP-generation Dialog with ChatGPT\n",
    "\n",
    "- 'Write a 2-page NIH Data Sharing Plan for a research project led by PI-2 with data management led by DM-1'\n",
    "- 'The subject area of the data management plan is Environmental Analysis'\n",
    "- 'The project will generate 19MB of Survey data for use during the project, resulting in 15MB of CSV files that will be shared and preserved in the ICPSR repository'\n",
    "- 'The data generated by the project will be documented using the DDI standard(s)'\n",
    "- 'The generated materials will be shared under the terms of the CC0 Creative Commons license'\n",
    "- 'The generated materials will be preserved using UNM's LibNova Labdrive system for long-term preservation in addition to any additional preservation provided by the target repository'\n",
    "\n",
    "The interactively generated DMP is significantly different from the ones that are currently being\n",
    "generated by the API through one of the GPT version 3.5 models. This highlights the dynamic environment\n",
    "in which we are operating and the rapidly changing results that we can obtain through Generative AI produced\n",
    "interactions. "
   ]
  },
  {
   "cell_type": "markdown",
   "id": "e19bdaa3",
   "metadata": {
    "slideshow": {
     "slide_type": "slide"
    }
   },
   "source": [
    "## Next Steps\n",
    "\n",
    "- Experiment with expanded prompt models that provide more detail for inclusion in the generated DMPs\n",
    "- Test the impacts of 'fine tuning' of models based on DMP revisions provided by experts in the field\n",
    "- Experiment with implementation of 'machine actionable DMP' structured data as a source for prompt generation allowing for linking between machine-readable and human-readable DMPs\n",
    "\n"
   ]
  },
  {
   "cell_type": "code",
   "execution_count": null,
   "id": "7892e426",
   "metadata": {},
   "outputs": [],
   "source": []
  }
 ],
 "metadata": {
  "celltoolbar": "Slideshow",
  "kernelspec": {
   "display_name": "Python 3 (ipykernel)",
   "language": "python",
   "name": "python3"
  },
  "language_info": {
   "codemirror_mode": {
    "name": "ipython",
    "version": 3
   },
   "file_extension": ".py",
   "mimetype": "text/x-python",
   "name": "python",
   "nbconvert_exporter": "python",
   "pygments_lexer": "ipython3",
   "version": "3.8.5"
  }
 },
 "nbformat": 4,
 "nbformat_minor": 5
}
