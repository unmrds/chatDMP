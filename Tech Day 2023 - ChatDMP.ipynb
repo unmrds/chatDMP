{
 "cells": [
  {
   "cell_type": "markdown",
   "id": "706b6e1d",
   "metadata": {
    "slideshow": {
     "slide_type": "slide"
    }
   },
   "source": [
    "# ChatDMP\n",
    "------------------------------------\n",
    "\n",
    "_Data management planning opportunities and ethics in the advent of generative language models_\n",
    "\n",
    "Jon Wheeler (<jwheel01@unm.edu>), Data Curation Librarian, College of University Libraries & Learning Sciences  \n",
    "Karl Benedict (<kbene@unm.edu>), Director, Research Data Services & Library IT, College of University Libraries & Learning Sciences "
   ]
  },
  {
   "cell_type": "markdown",
   "id": "15a42ff0",
   "metadata": {
    "slideshow": {
     "slide_type": "subslide"
    }
   },
   "source": [
    "Description:\n",
    "\n",
    "_Data management plans (DMP) required by funders provide a case for the use of generative AI in research. The highly structured DMP formats recommended by funders lend themselves to the formulaic approach of generative AI but require considerations of researcher engagement with and ownership of the DMP that is submitted. In this presentation, faculty from the UNM's Research Data Services demonstrate the potential benefits and pitfalls of AI-generated DMPs for meeting sponsor DMP requirements._"
   ]
  },
  {
   "cell_type": "markdown",
   "id": "7e14adae",
   "metadata": {
    "slideshow": {
     "slide_type": "skip"
    }
   },
   "source": [
    "## Outline\n",
    "\n",
    "1. Introductions\n",
    "    1. We are not AI experts - we are data management experts\n",
    "1. Getting connected to ChatGPT\n",
    "    1. Log in or sign up, use Google, etc.: <https://chat.openai.com/>\n",
    "    1. Have some fun with prompts - ask about yourselves, etc. How accurate is the info?\n",
    "    1. Ask for information relevant to your research\n",
    "    1. Ask for a data management plan for your research\n",
    "        1. What seems useful? Not useful or wrong? How will you know?\n",
    "1. Parts of a DMP\n",
    "1. Developing a useful prompt\n",
    "1. Ethical considerations\n",
    "    1. Authorship or AI contribution to writing the DMP\n",
    "    1. Quality of the response\n",
    "    1. Capacity - did the AI suggest anything that UNM can't do (like provide 10TB of space of data sharing?)"
   ]
  },
  {
   "cell_type": "code",
   "execution_count": null,
   "id": "224bdfac",
   "metadata": {},
   "outputs": [],
   "source": []
  }
 ],
 "metadata": {
  "celltoolbar": "Slideshow",
  "kernelspec": {
   "display_name": "Python 3 (ipykernel)",
   "language": "python",
   "name": "python3"
  },
  "language_info": {
   "codemirror_mode": {
    "name": "ipython",
    "version": 3
   },
   "file_extension": ".py",
   "mimetype": "text/x-python",
   "name": "python",
   "nbconvert_exporter": "python",
   "pygments_lexer": "ipython3",
   "version": "3.9.13"
  }
 },
 "nbformat": 4,
 "nbformat_minor": 5
}
